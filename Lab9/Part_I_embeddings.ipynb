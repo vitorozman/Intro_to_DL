{
 "cells": [
  {
   "cell_type": "markdown",
   "metadata": {},
   "source": [
    "# Practical 12 \n",
    "\n",
    "This practical has two parts (jupyter notebooks), **Part I: Word embeddings** and **Part II: Transformers**.\n",
    "\n",
    "# Part I: Word embeddings\n",
    "\n",
    "This Jupyter Notebook consists of the following parts:\n",
    "1. [Word Embeddings](#word_embeddings)   \n",
    "    1. [Word2Vec](#word2vec)    \n",
    "    2. [Word2Vec Architectures](#word2vec_arch)     \n",
    "    3. [Word Embeddings Visualisation](#visual)\n",
    "2. [Exploring Word Vectors with GloVe](glove)\n",
    "    1. [Loading Word Vectors](#loading)\n",
    "    2. [Finding Closest Vectors](#finding)\n",
    "    3. [Word Analogies with Vector Arithmetic](#analogies)\n",
    "3. [Motivation for Part II: Transformers](#transformers)\n",
    "\n",
    "\n",
    "Check out a supplementary jupyter notebook for Part I, if interested in Skip-Gram implementation."
   ]
  },
  {
   "cell_type": "markdown",
   "metadata": {},
   "source": [
    "![vectors](https://humboldt-wi.github.io/blog/img/seminar/topic_models/oprah.png)"
   ]
  },
  {
   "cell_type": "markdown",
   "metadata": {},
   "source": [
    "---\n",
    "<a id='word_embeddings'></a>\n",
    "# Word embeddings"
   ]
  },
  {
   "cell_type": "markdown",
   "metadata": {},
   "source": [
    "<a id='word2vec'></a>\n",
    "## Word2Vec\n",
    "\n",
    "There are two classes of vector models: count-based (TF-IDF, Bag-of-Words) and neural-based. In this practical we will be focusing on neural word embeddings, i.e. word embeddings learned by a neural network.\n",
    "\n",
    "**Main idea:** to use neural architectures that are predicting (not counting) the next word or a context of a given word.\n",
    "\n",
    "One of the most known such models is **Word2Vec**. It is based on a neural network that is predicting the probability of a word given it's context. It was created by Mikolov et al. (2013). Here are the main papers on the topic:\n",
    "\n",
    "* [Efficient Estimation of Word Representations in Vector Space](https://arxiv.org/pdf/1301.3781.pdf)\n",
    "* [Distributed Representations of Words and Phrases and their Compositionality](https://arxiv.org/abs/1310.4546)\n",
    "\n",
    "These vectors are ususally reffered to as **_distributed representations of words_** or **_word embeddings_**.\n",
    "\n",
    "_As word embeddings are a key building block of deep learning models for NLP, word2vec is often assumed to belong to the same group. Technically however, word2vec is not be considered to be part of deep learning, as its architecture is neither deep nor uses non-linearities_ \n",
    "\n",
    "*a quote from [Sebastian Ruder's blog](https://ruder.io/word-embeddings-1/)  \n"
   ]
  },
  {
   "cell_type": "markdown",
   "metadata": {},
   "source": [
    "<a id='word2vec_arch'></a>\n",
    "## Word2Vec Architectures\n",
    "\n",
    "There are two Word2Vec architectures: Skip-Gram and CBOW.\n",
    "\n",
    "**Skip-Gram** predicts context words given the central word. Skip-Gram with negative sampling is the most popular approach.\n",
    "\n",
    "**CBOW (Continuous Bag-of-Words)** predicts the central word from the sum of context vectors. This simple sum of word vectors is called \"bag of words\", which gives the name for the model.\n",
    "\n",
    "![vectors](https://lena-voita.github.io/resources/lectures/word_emb/w2v/cbow_skip-min.png)\n",
    "\n",
    "\n",
    "*the image is taken for [Lena Voita's blog](https://lena-voita.github.io/nlp_course/word_embeddings.html#main_content)     \n",
    "*if interested, please, check it out, it is very informative and illustrative"
   ]
  },
  {
   "cell_type": "markdown",
   "metadata": {},
   "source": [
    "### How does it work?\n",
    "\n",
    "Word2vec takes a large text corpus as input and maps each word to a vector, producing word coordinates as output. It first creates a dictionary by training on the input text data, and then calculates a vector representation of the words. The vector representation is learned on contextual proximity: words that occur in the text next to the same words (and therefore, according to the distributive hypothesis, have a similar meaning) will have close coordinates in the vector representation. \n",
    "\n",
    "To calculate the proximity of words, usually the cosine or euclidean distances between vectors are used.\n",
    "\n",
    "Using distributed representations you can build semantic proportions (also known as analogies) and solve examples like:\n",
    "\n",
    "*king: male = queen: female*\n",
    "  $\\Rightarrow$\n",
    "*king - man + woman = queen*"
   ]
  },
  {
   "cell_type": "markdown",
   "metadata": {},
   "source": [
    "![w2v](https://cdn-images-1.medium.com/max/2600/1*sXNXYfAqfLUeiDXPCo130w.png)"
   ]
  },
  {
   "cell_type": "markdown",
   "metadata": {},
   "source": [
    "<a id='visual'></a>\n",
    "## Word Embeddings Visualization\n",
    "\n",
    "Go to https://projector.tensorflow.org/ and visualize Word2Vec embeddings. \n",
    "\n",
    "Original Word2Vec repository: https://code.google.com/archive/p/word2vec/"
   ]
  },
  {
   "cell_type": "markdown",
   "metadata": {},
   "source": [
    "---\n",
    "<a id='glove'></a>\n",
    "# Exploring Word Vectors with GloVe:\n",
    "\n",
    "As we have seen, the word2vec algorithms (such as Skip-Gram) predicts words in a context (e.g. what is the most likely word to appear in \"the cat ? the mouse\"), while GloVe vectors are based on global counts across the corpus — [see How is GloVe different from word2vec?](https://www.quora.com/How-is-GloVe-different-from-word2vec) on Quora for some better explanations.\n",
    "\n",
    "The best feature of GloVe is that multiple sets of pre-trained vectors are easily available for [download](https://nlp.stanford.edu/projects/glove/), so that's what we'll use here.\n",
    "\n",
    "Part II of this notebook is taken from [practical-pytorch tutorials](https://github.com/spro/practical-pytorch/blob/master/glove-word-vectors/glove-word-vectors.ipynb)."
   ]
  },
  {
   "cell_type": "markdown",
   "metadata": {},
   "source": [
    "<a id='loading'></a>\n",
    "## Loading Word Vectors\n",
    "Torchtext includes functions to download GloVe (and other) embeddings"
   ]
  },
  {
   "cell_type": "code",
   "execution_count": 1,
   "metadata": {},
   "outputs": [],
   "source": [
    "import torch\n",
    "\n",
    "from dataclasses import dataclass\n",
    "from typing import List, Dict"
   ]
  },
  {
   "cell_type": "markdown",
   "metadata": {},
   "source": [
    "### Downloading embeddings\n",
    "\n",
    "Run the following python cell to automatically download, store and unzip the glove embeddings. Note that approx 1G of storage is required.\n",
    "\n",
    "Alternatively, you can download the files from [Stanford NLP](https://nlp.stanford.edu/projects/glove/)\n",
    "\n"
   ]
  },
  {
   "cell_type": "code",
   "execution_count": 11,
   "metadata": {},
   "outputs": [
    {
     "name": "stdout",
     "output_type": "stream",
     "text": [
      "Archive:  glove.6B.zip\n",
      "  inflating: glove.6B.50d.txt        \n",
      "  inflating: glove.6B.100d.txt       \n",
      "  inflating: glove.6B.200d.txt       \n",
      "  inflating: glove.6B.300d.txt       \n"
     ]
    }
   ],
   "source": [
    "# execute only if you want the glove embeddings to be downloaded and unzipped here.\n",
    "\n",
    "!wget https://nlp.stanford.edu/data/glove.6B.zip \n",
    "!unzip glove.6B.zip -d glove.6B"
   ]
  },
  {
   "cell_type": "code",
   "execution_count": 2,
   "metadata": {},
   "outputs": [],
   "source": [
    "glove_file_path = \"glove.6B/glove.6B.50d.txt\""
   ]
  },
  {
   "cell_type": "code",
   "execution_count": 3,
   "metadata": {},
   "outputs": [],
   "source": [
    "@dataclass(frozen=True)\n",
    "class GloVe:\n",
    "    stoi: Dict[str, int]\n",
    "    itos: List[str]\n",
    "    vectors: List[torch.Tensor]\n",
    "\n",
    "def load_glove(path):\n",
    "    with open(path, \"r\") as f:\n",
    "        lines = [l.strip() for l in f]\n",
    "    \n",
    "    stoi = {}\n",
    "    itos = []\n",
    "    vectors = []\n",
    "    for line in lines:\n",
    "        splits = line.split()\n",
    "        word = splits[0]\n",
    "        vec = torch.tensor([float(v) for v in splits[1:]])\n",
    "        \n",
    "        # We append the word to the idx2word list\n",
    "        # so its index will be len(idx2word) - 1\n",
    "        itos.append(word)\n",
    "        stoi[word] = len(itos) - 1\n",
    "\n",
    "        vectors.append(vec)\n",
    "\n",
    "    return GloVe(stoi=stoi, itos=itos, vectors=vectors)\n"
   ]
  },
  {
   "cell_type": "code",
   "execution_count": 4,
   "metadata": {},
   "outputs": [
    {
     "name": "stdout",
     "output_type": "stream",
     "text": [
      "Loaded 400000 words\n"
     ]
    }
   ],
   "source": [
    "glove = load_glove(glove_file_path)  \n",
    "print('Loaded {} words'.format(len(glove.itos)))"
   ]
  },
  {
   "cell_type": "markdown",
   "metadata": {},
   "source": [
    "Loaded 400000 words\n",
    "The returned GloVe object includes attributes:\n",
    "\n",
    "- stoi string-to-index returns a dictionary of words to indexes\n",
    "- itos index-to-string returns an array of words by index\n",
    "- vectors returns the actual vectors. To get a word vector get the index to get the vector:"
   ]
  },
  {
   "cell_type": "code",
   "execution_count": 5,
   "metadata": {},
   "outputs": [],
   "source": [
    "def get_word(word):\n",
    "    return glove.vectors[glove.stoi[word]]"
   ]
  },
  {
   "cell_type": "markdown",
   "metadata": {},
   "source": [
    "<a id='finding'></a>\n",
    "## Finding Closest Vectors\n",
    "\n",
    "Going from word → vector is easy enough, but to go from vector → word takes more work. Here I'm (naively) calculating the distance for each word in the vocabulary, and sorting based on that distance:\n",
    "\n",
    "Anyone with a suggestion for optimizing this, please let me know!"
   ]
  },
  {
   "cell_type": "code",
   "execution_count": 6,
   "metadata": {},
   "outputs": [],
   "source": [
    "from tqdm.notebook import tqdm\n",
    "import numpy as np \n",
    "\n",
    "def manhattan_distance(vector1, vector2):\n",
    "    return np.abs(vector1 - vector2).sum()\n",
    "\n",
    "def cosine_similarity(vector1, vector2):\n",
    "    return np.dot(vector1, vector2) / (np.linalg.norm(vector1) * np.linalg.norm(vector2))\n",
    "\n",
    "def closest(vec, n=10, dist='pnorm'):\n",
    "    \"\"\"\n",
    "    Find the closest words for a given vector\n",
    "    \"\"\"\n",
    "    if dist=='pnorm':\n",
    "        all_dists = [(w, torch.dist(vec, get_word(w))) for w in tqdm(glove.itos)]\n",
    "        return sorted(all_dists, key=lambda t: t[1])[:n]\n",
    "    elif dist =='manhattan':\n",
    "        all_dists = [(w, manhattan_distance(vec, get_word(w))) for w in tqdm(glove.itos)]\n",
    "        return sorted(all_dists, key=lambda t: t[1])[:n]\n",
    "    elif dist =='cosine':\n",
    "        all_dists = [(w, cosine_similarity(vec, get_word(w))) for w in tqdm(glove.itos)]\n",
    "        return sorted(all_dists, key=lambda t: t[1], reverse=True)[:n]\n",
    "    else:\n",
    "        print('Unknown distance type')\n",
    "        return None\n",
    "    \n",
    "    "
   ]
  },
  {
   "cell_type": "markdown",
   "metadata": {},
   "source": [
    "This will return a list of (word, distance) tuple pairs. Here's a helper function to print that list:"
   ]
  },
  {
   "cell_type": "code",
   "execution_count": 7,
   "metadata": {},
   "outputs": [],
   "source": [
    "def print_tuples(tuples):\n",
    "    for tuple in tuples:\n",
    "        print('(%.4f) %s' % (tuple[1], tuple[0]))"
   ]
  },
  {
   "cell_type": "markdown",
   "metadata": {},
   "source": [
    "Now using a known word vector we can see which other vectors are closest:"
   ]
  },
  {
   "cell_type": "code",
   "execution_count": 8,
   "metadata": {},
   "outputs": [
    {
     "data": {
      "application/vnd.jupyter.widget-view+json": {
       "model_id": "9837c8795f154a268111d258c9182382",
       "version_major": 2,
       "version_minor": 0
      },
      "text/plain": [
       "  0%|          | 0/400000 [00:00<?, ?it/s]"
      ]
     },
     "metadata": {},
     "output_type": "display_data"
    },
    {
     "name": "stdout",
     "output_type": "stream",
     "text": [
      "(0.0000) neuron\n",
      "(20.5081) neurons\n",
      "(21.5858) presynaptic\n",
      "(21.8358) excitability\n",
      "(21.8549) post-synaptic\n",
      "(21.8623) synapse\n",
      "(22.0291) axons\n",
      "(22.2381) axon\n",
      "(22.3861) neuronal\n",
      "(22.5188) synapses\n"
     ]
    }
   ],
   "source": [
    "print_tuples(closest(get_word('neuron'),dist='manhattan'))"
   ]
  },
  {
   "cell_type": "code",
   "execution_count": 9,
   "metadata": {},
   "outputs": [
    {
     "data": {
      "application/vnd.jupyter.widget-view+json": {
       "model_id": "6524be7296b14d1ba0b96ffc0074233e",
       "version_major": 2,
       "version_minor": 0
      },
      "text/plain": [
       "  0%|          | 0/400000 [00:00<?, ?it/s]"
      ]
     },
     "metadata": {},
     "output_type": "display_data"
    },
    {
     "name": "stdout",
     "output_type": "stream",
     "text": [
      "(1.0000) queen\n",
      "(0.8515) princess\n",
      "(0.8051) lady\n",
      "(0.7873) elizabeth\n",
      "(0.7839) king\n",
      "(0.7822) prince\n",
      "(0.7693) coronation\n",
      "(0.7626) consort\n",
      "(0.7443) royal\n",
      "(0.7383) crown\n"
     ]
    },
    {
     "data": {
      "application/vnd.jupyter.widget-view+json": {
       "model_id": "81a50a1c222e4c54824ebbca0346a22a",
       "version_major": 2,
       "version_minor": 0
      },
      "text/plain": [
       "  0%|          | 0/400000 [00:00<?, ?it/s]"
      ]
     },
     "metadata": {},
     "output_type": "display_data"
    },
    {
     "name": "stdout",
     "output_type": "stream",
     "text": [
      "(0.0000) queen\n",
      "(17.1559) princess\n",
      "(18.3461) lady\n",
      "(18.6469) elizabeth\n",
      "(18.9747) majesty\n",
      "(19.0815) coronation\n",
      "(19.1924) prince\n",
      "(19.6283) crown\n",
      "(19.7903) consort\n",
      "(19.8485) king\n"
     ]
    },
    {
     "data": {
      "application/vnd.jupyter.widget-view+json": {
       "model_id": "3c57fcbcddc240ccade50ebc559c706a",
       "version_major": 2,
       "version_minor": 0
      },
      "text/plain": [
       "  0%|          | 0/400000 [00:00<?, ?it/s]"
      ]
     },
     "metadata": {},
     "output_type": "display_data"
    },
    {
     "name": "stdout",
     "output_type": "stream",
     "text": [
      "(0.0000) queen\n",
      "(3.0129) princess\n",
      "(3.1624) lady\n",
      "(3.2966) elizabeth\n",
      "(3.3926) prince\n",
      "(3.4368) coronation\n",
      "(3.4778) king\n",
      "(3.5708) consort\n",
      "(3.6211) victoria\n",
      "(3.6685) crown\n"
     ]
    }
   ],
   "source": [
    "print_tuples(closest(get_word('queen'),dist='cosine'))\n",
    "\n",
    "print_tuples(closest(get_word('queen'),dist='manhattan'))\n",
    "\n",
    "print_tuples(closest(get_word('queen'),dist='pnorm'))"
   ]
  },
  {
   "cell_type": "markdown",
   "metadata": {},
   "source": [
    "<a id='analogies'></a>\n",
    "## Word Analogies with Vector Arithmetic\n",
    "The most interesting feature of a well-trained word vector space is that certain semantic relationships (beyond just closeness of words) can be captured with regular vector arithmetic.\n"
   ]
  },
  {
   "cell_type": "code",
   "execution_count": 10,
   "metadata": {},
   "outputs": [],
   "source": [
    "# In the form w1 : w2 :: w3 : ?\n",
    "def analogy(w1, w2, w3, n=10, filter_given=True, dist = 'manhattan'):\n",
    "    # w2 - w1 + w3 = w4\n",
    "    result = get_word(w1) - get_word(w2) + get_word(w3)\n",
    "    closest_words = closest(result, n=n, dist=dist)\n",
    "    print('\\n[%s - %s + %s = ?]' % (w1, w2, w3))\n",
    "    # Optionally filter out given words\n",
    "    if filter_given:\n",
    "        closest_words = [t for t in closest_words if t[0] not in [w1, w2, w3]]\n",
    "    \n",
    "    print('Closest word =',closest_words[0][0]) \n",
    "    \n",
    "    vectors = [get_word(w1), get_word(w2), get_word(w3), result, get_word(closest_words[0][0])]\n",
    "    words = [w1,w2,w3, 'result', closest_words[0][0]]\n",
    "    return vectors, words\n",
    "    "
   ]
  },
  {
   "cell_type": "code",
   "execution_count": 11,
   "metadata": {},
   "outputs": [
    {
     "data": {
      "application/vnd.jupyter.widget-view+json": {
       "model_id": "a0c3985303594297aa94d2227318ea66",
       "version_major": 2,
       "version_minor": 0
      },
      "text/plain": [
       "  0%|          | 0/400000 [00:00<?, ?it/s]"
      ]
     },
     "metadata": {},
     "output_type": "display_data"
    },
    {
     "name": "stdout",
     "output_type": "stream",
     "text": [
      "\n",
      "[man - king + queen = ?]\n",
      "Closest word = woman\n"
     ]
    }
   ],
   "source": [
    "vectors, words = analogy('man', 'king', 'queen')\n"
   ]
  },
  {
   "cell_type": "code",
   "execution_count": 12,
   "metadata": {},
   "outputs": [
    {
     "data": {
      "application/vnd.jupyter.widget-view+json": {
       "model_id": "75b3f6782b7c44389692f5f7d1b3d652",
       "version_major": 2,
       "version_minor": 0
      },
      "text/plain": [
       "  0%|          | 0/400000 [00:00<?, ?it/s]"
      ]
     },
     "metadata": {},
     "output_type": "display_data"
    },
    {
     "name": "stdout",
     "output_type": "stream",
     "text": [
      "\n",
      "[king - man + woman = ?]\n",
      "Closest word = queen\n"
     ]
    }
   ],
   "source": [
    "vectors, words = analogy('king', 'man', 'woman')\n"
   ]
  },
  {
   "cell_type": "code",
   "execution_count": 13,
   "metadata": {},
   "outputs": [],
   "source": [
    "\n",
    "import matplotlib.pyplot as plt\n",
    "\n",
    "\n",
    "def plot_embedding_vectors(vectors, words, visualise_closest=False):\n",
    "    fig, ax = plt.subplots()\n",
    "\n",
    "    # Plot the points\n",
    "    ax.scatter([v[0] for v in vectors[:3]], [v[1] for v in vectors[:3]], c='blue', label='Words', marker='o')\n",
    "    ax.scatter(vectors[3][0], vectors[3][1], c='red', label='Result Vector', marker='x')\n",
    "    if visualise_closest:\n",
    "        ax.scatter(vectors[4][0], vectors[4][1], c='green', label='Closest Word', marker='s')\n",
    "\n",
    "    # Draw arrows\n",
    "    ax.arrow(vectors[1][0], vectors[1][1], vectors[0][0] - vectors[1][0], vectors[0][1] - vectors[1][1],\n",
    "             head_width=0.02, head_length=0.02, fc='blue', ec='blue')\n",
    "    ax.arrow(vectors[2][0], vectors[2][1], vectors[3][0] - vectors[2][0], vectors[3][1] - vectors[2][1],\n",
    "             head_width=0.02, head_length=0.02, fc='blue', ec='blue')\n",
    "\n",
    "    # Label points\n",
    "    if visualise_closest:\n",
    "        labels = [words[0], words[1], words[2], 'Result', words[-1]]\n",
    "        for i in range(len(vectors)):\n",
    "            ax.text(vectors[i][0], vectors[i][1], labels[i], fontsize=12, ha='right')\n",
    "\n",
    "    else:   \n",
    "        labels = [words[0], words[1], words[2], 'Result']\n",
    "        for i in range(len(vectors)-1):\n",
    "            ax.text(vectors[i][0], vectors[i][1], labels[i], fontsize=12, ha='right')\n",
    "\n",
    "    # Legend\n",
    "    ax.legend()\n",
    "\n",
    "    plt.show()\n",
    "    \n"
   ]
  },
  {
   "cell_type": "code",
   "execution_count": 14,
   "metadata": {},
   "outputs": [
    {
     "data": {
      "application/vnd.jupyter.widget-view+json": {
       "model_id": "5f08f5c36b894fbfa3daa4130b8e3fe3",
       "version_major": 2,
       "version_minor": 0
      },
      "text/plain": [
       "  0%|          | 0/400000 [00:00<?, ?it/s]"
      ]
     },
     "metadata": {},
     "output_type": "display_data"
    },
    {
     "name": "stdout",
     "output_type": "stream",
     "text": [
      "\n",
      "[king - man + woman = ?]\n",
      "Closest word = queen\n"
     ]
    },
    {
     "data": {
      "image/png": "[encoded data removed]",
      "text/plain": [
       "<Figure size 640x480 with 1 Axes>"
      ]
     },
     "metadata": {},
     "output_type": "display_data"
    }
   ],
   "source": [
    "vectors, words = analogy('king', 'man', 'woman')\n",
    "plot_embedding_vectors(vectors,words)"
   ]
  },
  {
   "cell_type": "code",
   "execution_count": 15,
   "metadata": {},
   "outputs": [
    {
     "data": {
      "application/vnd.jupyter.widget-view+json": {
       "model_id": "da05f59e31ec4b7ab99f62b1c9f06628",
       "version_major": 2,
       "version_minor": 0
      },
      "text/plain": [
       "  0%|          | 0/400000 [00:00<?, ?it/s]"
      ]
     },
     "metadata": {},
     "output_type": "display_data"
    },
    {
     "name": "stdout",
     "output_type": "stream",
     "text": [
      "\n",
      "[man - king + queen = ?]\n",
      "Closest word = woman\n"
     ]
    },
    {
     "data": {
      "image/png": "[encoded data removed]",
      "text/plain": [
       "<Figure size 640x480 with 1 Axes>"
      ]
     },
     "metadata": {},
     "output_type": "display_data"
    }
   ],
   "source": [
    "vectors, words = analogy('man', 'king', 'queen')\n",
    "plot_embedding_vectors(vectors,words)\n"
   ]
  },
  {
   "cell_type": "code",
   "execution_count": 16,
   "metadata": {},
   "outputs": [
    {
     "data": {
      "application/vnd.jupyter.widget-view+json": {
       "model_id": "a197c0b5868f4e97a7ac1fadc78b9f3d",
       "version_major": 2,
       "version_minor": 0
      },
      "text/plain": [
       "  0%|          | 0/400000 [00:00<?, ?it/s]"
      ]
     },
     "metadata": {},
     "output_type": "display_data"
    },
    {
     "name": "stdout",
     "output_type": "stream",
     "text": [
      "\n",
      "[chinese - china + japan = ?]\n",
      "Closest word = japanese\n"
     ]
    },
    {
     "data": {
      "image/png": "[encoded data removed]",
      "text/plain": [
       "<Figure size 640x480 with 1 Axes>"
      ]
     },
     "metadata": {},
     "output_type": "display_data"
    }
   ],
   "source": [
    "vectors, words = analogy('chinese', 'china', 'japan')\n",
    "plot_embedding_vectors(vectors, words)"
   ]
  },
  {
   "cell_type": "markdown",
   "metadata": {},
   "source": [
    "**Comment:** One of the applications of word embeddings is for example using them in the embedding layer of your model instead of using randomly initialised input that is being corrected during training.    \n",
    "\n",
    "These pre-trained word embeddings (from Word2Vec, Glove, etc.) can either be kept static or modified during training.\n"
   ]
  },
  {
   "cell_type": "markdown",
   "metadata": {},
   "source": [
    "# BERT embeddings"
   ]
  },
  {
   "cell_type": "markdown",
   "metadata": {},
   "source": [
    "Glove embeddings have nice properties but cannot distinguish between multiple meanings of a word. \n",
    "\n",
    "E.g. the word *play* can be used as a verb if it refers to the activity of playing (e.g. between kids) or as a noun if it refers to a theatre play.\n",
    "\n",
    "Instead, contextualised embeddings learn to encode words depending on their context within a sentence (word sequence). We will see for example BERT embeddings which offer contextualized representations leveraging the Transformer architecture."
   ]
  },
  {
   "cell_type": "code",
   "execution_count": 17,
   "metadata": {},
   "outputs": [],
   "source": [
    "\n",
    "def plot_embedding_vectors_multi_type(vectors, words):\n",
    "    fig, ax = plt.subplots()\n",
    "\n",
    "    # Plot the points\n",
    "    ax.scatter([v[0] for v in vectors], [v[1] for v in vectors], c='blue', label='Words', marker='o')\n",
    "    \n",
    "    # Label points\n",
    "    for i in range(len(vectors)):\n",
    "        ax.text(vectors[i][0], vectors[i][1], words[i], fontsize=12, ha='right')\n",
    "\n",
    "    # Legend\n",
    "    ax.legend()\n",
    "\n",
    "    plt.show()\n",
    "    \n",
    "\n"
   ]
  },
  {
   "cell_type": "code",
   "execution_count": 18,
   "metadata": {},
   "outputs": [
    {
     "name": "stderr",
     "output_type": "stream",
     "text": [
      "Truncation was not explicitly activated but `max_length` is provided a specific value, please use `truncation=True` to explicitly truncate examples to max length. Defaulting to 'longest_first' truncation strategy. If you encode pairs of sequences (GLUE-style) with the tokenizer you can select this strategy more precisely by providing a specific strategy to `truncation`.\n",
      "/opt/homebrew/Caskroom/miniforge/base/envs/dl-2023/lib/python3.8/site-packages/transformers/tokenization_utils_base.py:2418: FutureWarning: The `pad_to_max_length` argument is deprecated and will be removed in a future version, use `padding=True` or `padding='longest'` to pad to the longest sequence in the batch, or use `padding='max_length'` to pad to a max length. In this case, you can give a specific length with `max_length` (e.g. `max_length=45`) or leave max_length to None to pad to the maximal input size of the model (e.g. 512 for Bert).\n",
      "  warnings.warn(\n"
     ]
    },
    {
     "data": {
      "image/png": "[encoded data removed]",
      "text/plain": [
       "<Figure size 640x480 with 1 Axes>"
      ]
     },
     "metadata": {},
     "output_type": "display_data"
    }
   ],
   "source": [
    "# OPTIONAL: Enable the logger for tracking information\n",
    "import logging\n",
    "from transformers import BertTokenizer, BertModel\n",
    "import matplotlib.pyplot as plt\n",
    "%matplotlib inline\n",
    "\n",
    "tokenizer = BertTokenizer.from_pretrained('bert-base-uncased')\n",
    "# Load the tokenizer for the pre-trained model\n",
    "\n",
    "\n",
    "\n",
    "def tokenize_parse(sentence,model):\n",
    "    encoded_dict = tokenizer.encode_plus(\n",
    "                        sentence,                  \n",
    "                        add_special_tokens=True,   # Add '[CLS]' and '[SEP]'\n",
    "                        max_length=64,             # Adjust sentence length\n",
    "                        pad_to_max_length=True,    # Pad/truncate sentences\n",
    "                        return_attention_mask=True,# Generate attention masks\n",
    "                        return_tensors='pt',       # Return PyTorch tensors\n",
    "                   )\n",
    "    \n",
    "   \n",
    "    input_ids = encoded_dict['input_ids']\n",
    "    \n",
    "    # Construct an attention mask (identifying padding/non-padding).\n",
    "    attention_masks = (encoded_dict['attention_mask'])\n",
    "    with torch.no_grad():\n",
    "        outputs = model(input_ids,attention_masks)\n",
    "        embeddings = outputs.last_hidden_state[0]\n",
    "    return input_ids, embeddings\n",
    "\n",
    "\n",
    "model = BertModel.from_pretrained(\"bert-base-uncased\")\n",
    "\n",
    "custom_text = \"Let the dogs out to play with each other\"\n",
    "custom_text2 = \"There is a new play in the national theatre \"\n",
    "word_1 = 'play'\n",
    "\n",
    "input_ids1, output_embeddings1 = tokenize_parse(custom_text,model)\n",
    "\n",
    "input_ids2, output_embeddings2 = tokenize_parse(custom_text2,model)\n",
    "\n",
    "input_ids_word1, output_embeddings_word1 = tokenize_parse(word_1,model)\n",
    "\n",
    "word_id1 = tokenizer.decode(token_ids=input_ids1[0]).split().index('play')\n",
    "word_id2 = tokenizer.decode(token_ids=input_ids2[0]).split().index('play')\n",
    "word_id_w1 = tokenizer.decode(token_ids=input_ids_word1[0]).split().index('play')\n",
    "\n",
    "vectors = [output_embeddings1[word_id1],output_embeddings2[word_id2],output_embeddings_word1[word_id_w1]]\n",
    "words = ['BERT_play_noun','BERT_play_verb', 'BERT_play_generic']\n",
    "\n",
    "plot_embedding_vectors_multi_type(vectors,words)"
   ]
  },
  {
   "cell_type": "markdown",
   "metadata": {},
   "source": [
    "**Note**: Above we demonstrate the vector operations using just the first two dimensions of the embedding vectors. These may not be very representative. We present below more ways of visualising embeddings in 2D space.\n",
    " "
   ]
  },
  {
   "cell_type": "markdown",
   "metadata": {},
   "source": [
    "# Visualisation of embeddings\n",
    "\n",
    "In all cases visited above we have embedding vectors with high dimensionlity. We will see below how we can use principal component analysis (PCA) to visualise embeddings in 2D space. "
   ]
  },
  {
   "cell_type": "markdown",
   "metadata": {},
   "source": [
    "# PCA visualisation\n"
   ]
  },
  {
   "cell_type": "code",
   "execution_count": 19,
   "metadata": {},
   "outputs": [
    {
     "data": {
      "application/vnd.jupyter.widget-view+json": {
       "model_id": "cf88f936ea334333b7dfa62a6af2b688",
       "version_major": 2,
       "version_minor": 0
      },
      "text/plain": [
       "  0%|          | 0/400000 [00:00<?, ?it/s]"
      ]
     },
     "metadata": {},
     "output_type": "display_data"
    },
    {
     "name": "stdout",
     "output_type": "stream",
     "text": [
      "queen\n",
      "princess\n",
      "lady\n",
      "elizabeth\n",
      "prince\n",
      "coronation\n",
      "king\n",
      "consort\n",
      "victoria\n",
      "crown\n"
     ]
    },
    {
     "data": {
      "application/vnd.jupyter.widget-view+json": {
       "model_id": "46418997b0e34f5e8cd1652fa48d1366",
       "version_major": 2,
       "version_minor": 0
      },
      "text/plain": [
       "  0%|          | 0/400000 [00:00<?, ?it/s]"
      ]
     },
     "metadata": {},
     "output_type": "display_data"
    },
    {
     "name": "stdout",
     "output_type": "stream",
     "text": [
      "king\n",
      "prince\n",
      "queen\n",
      "uncle\n",
      "ii\n",
      "grandson\n",
      "brother\n",
      "kingdom\n",
      "son\n",
      "nephew\n"
     ]
    },
    {
     "data": {
      "application/vnd.jupyter.widget-view+json": {
       "model_id": "6889674d9d8a49948a9bede11c2d25eb",
       "version_major": 2,
       "version_minor": 0
      },
      "text/plain": [
       "  0%|          | 0/400000 [00:00<?, ?it/s]"
      ]
     },
     "metadata": {},
     "output_type": "display_data"
    },
    {
     "name": "stdout",
     "output_type": "stream",
     "text": [
      "man\n",
      "woman\n",
      "another\n",
      "boy\n",
      "one\n",
      "old\n",
      "turned\n",
      "whose\n",
      "himself\n",
      "who\n"
     ]
    },
    {
     "data": {
      "application/vnd.jupyter.widget-view+json": {
       "model_id": "18cf37916ea548e18ce01ad9a6477741",
       "version_major": 2,
       "version_minor": 0
      },
      "text/plain": [
       "  0%|          | 0/400000 [00:00<?, ?it/s]"
      ]
     },
     "metadata": {},
     "output_type": "display_data"
    },
    {
     "name": "stdout",
     "output_type": "stream",
     "text": [
      "woman\n",
      "girl\n",
      "man\n",
      "mother\n",
      "boy\n",
      "her\n",
      "she\n",
      "herself\n",
      "victim\n",
      "child\n"
     ]
    },
    {
     "data": {
      "application/vnd.jupyter.widget-view+json": {
       "model_id": "e0cdbff7d6144b63982d35cb73f7d0e7",
       "version_major": 2,
       "version_minor": 0
      },
      "text/plain": [
       "  0%|          | 0/400000 [00:00<?, ?it/s]"
      ]
     },
     "metadata": {},
     "output_type": "display_data"
    },
    {
     "name": "stdout",
     "output_type": "stream",
     "text": [
      "mother\n",
      "daughter\n",
      "wife\n",
      "grandmother\n",
      "husband\n",
      "sister\n",
      "father\n",
      "aunt\n",
      "woman\n",
      "friend\n"
     ]
    },
    {
     "data": {
      "application/vnd.jupyter.widget-view+json": {
       "model_id": "b5f370db80a9412aa7b9ca5216ed9869",
       "version_major": 2,
       "version_minor": 0
      },
      "text/plain": [
       "  0%|          | 0/400000 [00:00<?, ?it/s]"
      ]
     },
     "metadata": {},
     "output_type": "display_data"
    },
    {
     "name": "stdout",
     "output_type": "stream",
     "text": [
      "father\n",
      "son\n",
      "brother\n",
      "grandfather\n",
      "friend\n",
      "uncle\n",
      "cousin\n",
      "husband\n",
      "mother\n",
      "daughter\n"
     ]
    },
    {
     "data": {
      "image/png": "[encoded data removed]",
      "text/plain": [
       "<Figure size 800x800 with 1 Axes>"
      ]
     },
     "metadata": {},
     "output_type": "display_data"
    }
   ],
   "source": [
    "\n",
    "import numpy as np\n",
    "import pandas as pd\n",
    "from sklearn.decomposition import PCA\n",
    "import matplotlib.pyplot as plt\n",
    "import random\n",
    "\n",
    "def display_pca_scatterplot_2D(words=None, topn=5):\n",
    "\n",
    "    word_vectors = ([get_word(w) for w in words])\n",
    "    neighborhoods = []\n",
    "    new_words = []\n",
    "    for word in words:\n",
    "        neighborhood = []\n",
    "        neighbors  = closest(get_word(word),n=topn)\n",
    "        for n in neighbors:\n",
    "            n_vector = get_word(n[0])\n",
    "            n_word = n[0]\n",
    "            new_words.append(n_word)\n",
    "            print(n_word)\n",
    "            neighborhood.append(n_vector.numpy())\n",
    "        \n",
    "        neighborhoods.extend(neighborhood)\n",
    "    \n",
    "    word_vectors = np.array(neighborhoods)\n",
    "    words = new_words\n",
    "    two_dim = PCA(random_state=0).fit_transform(word_vectors)[:,:2]\n",
    "   \n",
    "    principalDf = pd.DataFrame(data = two_dim\n",
    "             , columns = ['principal component 1', 'principal component 2'])\n",
    "    \n",
    "    finalDf = principalDf\n",
    "    finalDf['word']=words\n",
    "\n",
    "    fig = plt.figure(figsize = (8,8))\n",
    "    ax = fig.add_subplot(1,1,1) \n",
    "    ax.set_xlabel('Principal Component 1', fontsize = 15)\n",
    "    ax.set_ylabel('Principal Component 2', fontsize = 15)\n",
    "    ax.set_title('Visualisation via 2 component PCA', fontsize = 20)\n",
    "\n",
    "    hexadecimal_alphabets = '0123456789ABCDEF'\n",
    "    color = [\"#\" + ''.join([random.choice(hexadecimal_alphabets) for j in range(6)]) for i in range(len(words))]\n",
    "    for i,target in enumerate(words):\n",
    "        \n",
    "        indicesToKeep = finalDf['word'] == target\n",
    "        if i%topn==0:\n",
    "            si = 150\n",
    "        else:\n",
    "            si = 50\n",
    "        ax.scatter(finalDf.loc[indicesToKeep, 'principal component 1']\n",
    "                , finalDf.loc[indicesToKeep, 'principal component 2']\n",
    "                , c = color[i//topn]\n",
    "                , s = si)\n",
    "        \n",
    "    for i, txt in enumerate(words):\n",
    "        indicesToKeep = finalDf['word'] == txt\n",
    "        x = finalDf.loc[indicesToKeep, 'principal component 1'].iloc[0]\n",
    "        y = finalDf.loc[indicesToKeep, 'principal component 2'].iloc[0]\n",
    "        ax.annotate(txt, (x, y))\n",
    "    ax.grid()\n",
    "\n",
    "words=['queen','king','man','woman', 'mother', 'father']\n",
    "\n",
    "display_pca_scatterplot_2D(words,10)\n"
   ]
  }
 ],
 "metadata": {
  "kernelspec": {
   "display_name": "Python 3",
   "language": "python",
   "name": "python3"
  },
  "language_info": {
   "codemirror_mode": {
    "name": "ipython",
    "version": 3
   },
   "file_extension": ".py",
   "mimetype": "text/x-python",
   "name": "python",
   "nbconvert_exporter": "python",
   "pygments_lexer": "ipython3",
   "version": "3.8.18"
  }
 },
 "nbformat": 4,
 "nbformat_minor": 2
}
